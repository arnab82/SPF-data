{
 "cells": [
  {
   "cell_type": "code",
   "execution_count": 2,
   "id": "8b675bb3-187e-442f-9042-3a36e643c8c2",
   "metadata": {},
   "outputs": [
    {
     "name": "stderr",
     "output_type": "stream",
     "text": [
      "\u001b[32m\u001b[1m  Activating\u001b[22m\u001b[39m project at `~/code/FermiCG`\n",
      "┌ Info: Precompiling FermiCG [855c3b3a-d9bb-4919-8b00-0b3cfbdffb6f]\n",
      "└ @ Base loading.jl:1423\n"
     ]
    },
    {
     "data": {
      "text/plain": [
       "34-element Vector{String}:\n",
       " \".ipynb_checkpoints\"\n",
       " \"C_act.molden\"\n",
       " \"C_act_loc.molden\"\n",
       " \"C_act_loc_sorted.molden\"\n",
       " \"C_act_loc_sorted_2.molden\"\n",
       " \"C_act_loc_sorted_3.molden\"\n",
       " \"C_doc.molden\"\n",
       " \"README.md\"\n",
       " \"Untitled.ipynb\"\n",
       " \"b3lyp-d3_def2svp.xyz\"\n",
       " \"b3lyp-d3_def2svp_S4.xyz\"\n",
       " \"clustered1_integrals_h0.npy\"\n",
       " \"clustered1_integrals_h1.npy\"\n",
       " ⋮\n",
       " \"cr_qubit_scf.ipynb\"\n",
       " \"cr_qubit_scf_integrals_h0.npz.npy\"\n",
       " \"cr_qubit_scf_integrals_h1.npz.npy\"\n",
       " \"cr_qubit_scf_integrals_h2.npz.npy\"\n",
       " \"cr_qubit_scf_mo_coeffs.npz.npy\"\n",
       " \"excitations1.xlsx\"\n",
       " \"scf.ipynb\"\n",
       " \"uhf_density.npy\"\n",
       " \"uhf_mo_coeffs_a.npy\"\n",
       " \"uhf_mo_coeffs_b.npy\"\n",
       " \"venv\"\n",
       " \"wb97x-v_def2svp.xyz\""
      ]
     },
     "execution_count": 2,
     "metadata": {},
     "output_type": "execute_result"
    }
   ],
   "source": [
    "pwd()\n",
    "using Pkg; Pkg.activate(\"../../FermiCG/\")\n",
    "using FermiCG, NPZ\n",
    "readdir()"
   ]
  },
  {
   "cell_type": "code",
   "execution_count": 3,
   "id": "63d6ca6e-cc53-4fc1-9ab5-d0e7283754ce",
   "metadata": {},
   "outputs": [],
   "source": [
    "using FermiCG, NPZ, JLD2\n"
   ]
  },
  {
   "cell_type": "code",
   "execution_count": 5,
   "id": "ea8f91b8-da4f-43c1-9632-eebb88699bcd",
   "metadata": {},
   "outputs": [
    {
     "data": {
      "text/plain": [
       "5-element Vector{Cluster}:\n",
       " Cluster(1, [1, 2, 3, 4, 5, 6])\n",
       " Cluster(2, [7, 8, 9, 10, 11, 12])\n",
       " Cluster(3, [13, 14, 15, 16, 17, 18])\n",
       " Cluster(4, [19, 20, 21, 22, 23, 24])\n",
       " Cluster(5, [25, 26, 27, 28, 29, 30, 31, 32, 33, 34])"
      ]
     },
     "metadata": {},
     "output_type": "display_data"
    },
    {
     "data": {
      "text/plain": [
       "5-element Vector{Tuple{Int64, Int64}}:\n",
       " (3, 3)\n",
       " (3, 3)\n",
       " (3, 3)\n",
       " (3, 3)\n",
       " (5, 5)"
      ]
     },
     "metadata": {},
     "output_type": "display_data"
    },
    {
     "name": "stdout",
     "output_type": "stream",
     "text": [
      " Integrals have the following sizes: h0= () h1= (34, 34) h2= (34, 34, 34, 34)\n",
      " ooCMF Iter:    1 Total= -2119.139473784612 Active= -105.879636511977 G=     3.37e-01\n",
      " ooCMF Iter:    2 Total= -2119.176614257495 Active= -105.916776984860 G=     8.96e-02\n",
      " ooCMF Iter:    3 Total= -2119.179123717736 Active= -105.919286445101 G=     4.65e-02\n",
      " ooCMF Iter:    4 Total= -2119.179929055183 Active= -105.920091782548 G=     3.38e-02\n",
      " ooCMF Iter:    5 Total= -2119.180400548608 Active= -105.920563275973 G=     3.07e-02\n",
      " ooCMF Iter:    6 Total= -2119.180830672000 Active= -105.920993399364 G=     1.88e-02\n",
      " ooCMF Iter:    7 Total= -2119.180914842149 Active= -105.921077569514 G=     7.16e-03\n",
      " ooCMF Iter:    8 Total= -2119.180928851449 Active= -105.921091578814 G=     3.16e-03\n",
      " ooCMF Iter:    9 Total= -2119.180933276258 Active= -105.921096003623 G=     2.80e-03\n",
      " ooCMF Iter:   10 Total= -2119.180937976326 Active= -105.921100703691 G=     2.15e-03\n",
      " ooCMF Iter:   11 Total= -2119.180939805756 Active= -105.921102533121 G=     1.07e-03\n",
      " ooCMF Iter:   12 Total= -2119.180940137819 Active= -105.921102865183 G=     4.34e-04\n",
      " ooCMF Iter:   13 Total= -2119.180940224793 Active= -105.921102952158 G=     3.80e-04\n",
      " ooCMF Iter:   14 Total= -2119.180940317631 Active= -105.921103044996 G=     3.58e-04\n",
      " ooCMF Iter:   15 Total= -2119.180940370849 Active= -105.921103098214 G=     2.31e-04\n",
      " ooCMF Iter:   16 Total= -2119.180940385914 Active= -105.921103113279 G=     1.13e-04\n",
      " ooCMF Iter:   17 Total= -2119.180940393497 Active= -105.921103120862 G=     1.24e-04\n",
      " ooCMF Iter:   18 Total= -2119.180940402875 Active= -105.921103130240 G=     1.19e-04\n",
      " ooCMF Iter:   19 Total= -2119.180940407518 Active= -105.921103134883 G=     6.84e-05\n",
      " ooCMF Iter:   20 Total= -2119.180940408650 Active= -105.921103136015 G=     3.26e-05\n",
      " ooCMF Iter:   21 Total= -2119.180940409030 Active= -105.921103136395 G=     2.34e-05\n",
      " ooCMF Iter:   22 Total= -2119.180940409395 Active= -105.921103136760 G=     2.64e-05\n",
      " ooCMF Iter:   23 Total= -2119.180940409700 Active= -105.921103137065 G=     1.88e-05\n",
      " ooCMF Iter:   24 Total= -2119.180940409808 Active= -105.921103137173 G=     8.51e-06\n"
     ]
    },
    {
     "data": {
      "text/plain": [
       " * Status: success\n",
       "\n",
       " * Candidate solution\n",
       "    Final objective value:     -2.119181e+03\n",
       "\n",
       " * Found with\n",
       "    Algorithm:     BFGS\n",
       "\n",
       " * Convergence measures\n",
       "    |x - x'|               = 9.85e-07 ≰ 0.0e+00\n",
       "    |x - x'|/|x'|          = 1.42e-05 ≰ 0.0e+00\n",
       "    |f(x) - f(x')|         = 2.50e-11 ≰ 0.0e+00\n",
       "    |f(x) - f(x')|/|f(x')| = 1.18e-14 ≰ 0.0e+00\n",
       "    |g(x)|                 = 6.89e-07 ≤ 1.0e-06\n",
       "\n",
       " * Work counters\n",
       "    Seconds run:   269  (vs limit Inf)\n",
       "    Iterations:    24\n",
       "    f(x) calls:    54\n",
       "    ∇f(x) calls:   54\n"
      ]
     },
     "metadata": {},
     "output_type": "display_data"
    },
    {
     "name": "stdout",
     "output_type": "stream",
     "text": [
      " ooCMF Iter:   25 Total= -2119.180940409833 Active= -105.921103137198 G=     4.68e-06\n",
      "*ooCMF -2119.18094041 \n"
     ]
    },
    {
     "name": "stderr",
     "output_type": "stream",
     "text": [
      "┌ Warning: `vendor()` is deprecated, use `BLAS.get_config()` and inspect the output instead\n",
      "│   caller = npyinitialize() at numpy.jl:67\n",
      "└ @ PyCall /Users/nmayhall/.julia/packages/PyCall/L0fLP/src/numpy.jl:67\n"
     ]
    }
   ],
   "source": [
    "\n",
    "#load integrals from disk\n",
    "h0 = npzread(\"clustered1_integrals_h0.npy\")\n",
    "h1 = npzread(\"clustered1_integrals_h1.npy\")\n",
    "h2 = npzread(\"clustered1_integrals_h2.npy\")\n",
    "ints = InCoreInts(h0, h1, h2)\n",
    "ints_original = deepcopy(ints);\n",
    "\n",
    "println(\" Integrals have the following sizes: h0= \", size(h0), \" h1= \", size(h1), \" h2= \", size(h2))\n",
    "\n",
    "\n",
    "# Define clusters - this should probably be done in the python notebook, and then just read in here\n",
    "clusters_in = [\n",
    "\t       (1:6), # Benzene 1\n",
    "\t       (7:12), # Benzene 1\n",
    "\t       (13:18), # Benzene 1\n",
    "\t       (19:24), # Benzene 1\n",
    "\t       (25:34),   # metal\n",
    "\t       ]\n",
    "\n",
    "clusters = [Cluster(i,collect(clusters_in[i])) for i = 1:length(clusters_in)]\n",
    "\n",
    "init_fspace = [\n",
    "\t       (3,3),\n",
    "\t       (3,3),\n",
    "\t       (3,3),\n",
    "\t       (3,3),\n",
    "\t       (5,5)];\n",
    "display(clusters)\n",
    "display(init_fspace)\n",
    "\n",
    "\n",
    "rdm1 = zeros(size(ints.h1))\n",
    "\n",
    "e_cmf, U, Da, Db = FermiCG.cmf_oo(ints, clusters, init_fspace, rdm1, rdm1, verbose=0, gconv=1e-6, method=\"bfgs\", sequential=true);\n",
    "\n",
    "ints = FermiCG.orbital_rotation(ints_original,U);\n",
    "\n",
    "@save \"cmf_data_1.jld2\" ints clusters init_fspace Da Db"
   ]
  },
  {
   "cell_type": "code",
   "execution_count": null,
   "id": "adf32243-4039-423a-8b1c-cbc6c7696a41",
   "metadata": {},
   "outputs": [],
   "source": []
  }
 ],
 "metadata": {
  "kernelspec": {
   "display_name": "Julia 1.7.2",
   "language": "julia",
   "name": "julia-1.7"
  },
  "language_info": {
   "file_extension": ".jl",
   "mimetype": "application/julia",
   "name": "julia",
   "version": "1.7.2"
  }
 },
 "nbformat": 4,
 "nbformat_minor": 5
}

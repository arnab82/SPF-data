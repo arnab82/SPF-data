{
 "cells": [
  {
   "cell_type": "code",
   "execution_count": 4,
   "id": "8b675bb3-187e-442f-9042-3a36e643c8c2",
   "metadata": {},
   "outputs": [
    {
     "name": "stderr",
     "output_type": "stream",
     "text": [
      "\u001b[32m\u001b[1m  Activating\u001b[22m\u001b[39m project at `~/code/FermiCG`\n"
     ]
    },
    {
     "data": {
      "text/plain": [
       "36-element Vector{String}:\n",
       " \".ipynb_checkpoints\"\n",
       " \"C_act.molden\"\n",
       " \"C_act_loc.molden\"\n",
       " \"C_act_loc_sorted.molden\"\n",
       " \"C_act_loc_sorted_2.molden\"\n",
       " \"C_act_loc_sorted_3.molden\"\n",
       " \"C_doc.molden\"\n",
       " \"README.md\"\n",
       " \"b3lyp-d3_def2svp.xyz\"\n",
       " \"b3lyp-d3_def2svp_S4.xyz\"\n",
       " \"clustered1_integrals_h0.npy\"\n",
       " \"clustered1_integrals_h1.npy\"\n",
       " \"clustered1_integrals_h2.npy\"\n",
       " ⋮\n",
       " \"cr_qubit_scf.ipynb\"\n",
       " \"cr_qubit_scf_integrals_h0.npz.npy\"\n",
       " \"cr_qubit_scf_integrals_h1.npz.npy\"\n",
       " \"cr_qubit_scf_integrals_h2.npz.npy\"\n",
       " \"cr_qubit_scf_mo_coeffs.npz.npy\"\n",
       " \"excitations1.xlsx\"\n",
       " \"scf.ipynb\"\n",
       " \"uhf_density.npy\"\n",
       " \"uhf_mo_coeffs_a.npy\"\n",
       " \"uhf_mo_coeffs_b.npy\"\n",
       " \"venv\"\n",
       " \"wb97x-v_def2svp.xyz\""
      ]
     },
     "execution_count": 4,
     "metadata": {},
     "output_type": "execute_result"
    }
   ],
   "source": [
    "pwd()\n",
    "using Pkg; Pkg.activate(\"../../FermiCG/\")\n",
    "using FermiCG, NPZ\n",
    "readdir()"
   ]
  },
  {
   "cell_type": "code",
   "execution_count": 5,
   "id": "63d6ca6e-cc53-4fc1-9ab5-d0e7283754ce",
   "metadata": {},
   "outputs": [],
   "source": [
    "using FermiCG, NPZ, JLD2\n"
   ]
  },
  {
   "cell_type": "code",
   "execution_count": 6,
   "id": "6997d358-5adc-4e8f-b3ce-ec47c6c29659",
   "metadata": {},
   "outputs": [
    {
     "data": {
      "text/plain": [
       "6-element Vector{Cluster}:\n",
       " Cluster(1, [1, 2, 3, 4, 5, 6])\n",
       " Cluster(2, [7, 8, 9, 10, 11, 12])\n",
       " Cluster(3, [13, 14, 15, 16, 17, 18])\n",
       " Cluster(4, [19, 20, 21, 22, 23, 24])\n",
       " Cluster(5, [25, 26])\n",
       " Cluster(6, [27, 28, 29, 30, 31, 32, 33, 34])"
      ]
     },
     "metadata": {},
     "output_type": "display_data"
    },
    {
     "data": {
      "text/plain": [
       "6-element Vector{Tuple{Int64, Int64}}:\n",
       " (3, 3)\n",
       " (3, 3)\n",
       " (3, 3)\n",
       " (3, 3)\n",
       " (1, 1)\n",
       " (4, 4)"
      ]
     },
     "metadata": {},
     "output_type": "display_data"
    },
    {
     "name": "stdout",
     "output_type": "stream",
     "text": [
      " Integrals have the following sizes: h0= () h1= (34, 34) h2= (34, 34, 34, 34)\n"
     ]
    }
   ],
   "source": [
    "#load integrals from disk\n",
    "h0 = npzread(\"clustered1_integrals_h0.npy\")\n",
    "h1 = npzread(\"clustered1_integrals_h1.npy\")\n",
    "h2 = npzread(\"clustered1_integrals_h2.npy\")\n",
    "ints = InCoreInts(h0, h1, h2)\n",
    "ints_original = deepcopy(ints);\n",
    "\n",
    "println(\" Integrals have the following sizes: h0= \", size(h0), \" h1= \", size(h1), \" h2= \", size(h2))\n",
    "\n",
    "\n",
    "# Define clusters - this should probably be done in the python notebook, and then just read in here\n",
    "clusters_in = [\n",
    "\t       (1:6), # Benzene 1\n",
    "\t       (7:12), # Benzene 1\n",
    "\t       (13:18), # Benzene 1\n",
    "\t       (19:24), # Benzene 1\n",
    "\t       (25:26),   # metal 4s (sig,sig*)\n",
    "\t       (27:34),   # metal 3d + sig\n",
    "\t       ]\n",
    "\n",
    "clusters = [Cluster(i,collect(clusters_in[i])) for i = 1:length(clusters_in)]\n",
    "\n",
    "init_fspace = [\n",
    "\t       (3,3),\n",
    "\t       (3,3),\n",
    "\t       (3,3),\n",
    "\t       (3,3),\n",
    "\t       (1,1),\n",
    "\t       (4,4)];\n",
    "display(clusters)\n",
    "display(init_fspace)"
   ]
  },
  {
   "cell_type": "code",
   "execution_count": 8,
   "id": "8a4efe35-e821-42a9-bc27-55fa44955f09",
   "metadata": {},
   "outputs": [
    {
     "name": "stdout",
     "output_type": "stream",
     "text": [
      " ooCMF Iter:    1 Total= -2119.115642802029 Active= -105.855805529394 G=     3.38e-01\n",
      " ooCMF Iter:    2 Total= -2119.153672406961 Active= -105.893835134326 G=     9.12e-02\n",
      " ooCMF Iter:    3 Total= -2119.156237385084 Active= -105.896400112449 G=     4.66e-02\n",
      " ooCMF Iter:    4 Total= -2119.157060643232 Active= -105.897223370597 G=     3.35e-02\n",
      " ooCMF Iter:    5 Total= -2119.157531350253 Active= -105.897694077617 G=     3.14e-02\n",
      " ooCMF Iter:    6 Total= -2119.158013999991 Active= -105.898176727355 G=     2.23e-02\n",
      " ooCMF Iter:    7 Total= -2119.158144705245 Active= -105.898307432610 G=     8.93e-03\n",
      " ooCMF Iter:    8 Total= -2119.158165764305 Active= -105.898328491670 G=     3.93e-03\n",
      " ooCMF Iter:    9 Total= -2119.158171846771 Active= -105.898334574136 G=     3.14e-03\n",
      " ooCMF Iter:   10 Total= -2119.158178342208 Active= -105.898341069573 G=     2.70e-03\n",
      " ooCMF Iter:   11 Total= -2119.158181627153 Active= -105.898344354518 G=     1.57e-03\n",
      " ooCMF Iter:   12 Total= -2119.158182395530 Active= -105.898345122895 G=     6.73e-04\n",
      " ooCMF Iter:   13 Total= -2119.158182584436 Active= -105.898345311801 G=     5.29e-04\n",
      " ooCMF Iter:   14 Total= -2119.158182760949 Active= -105.898345488314 G=     5.21e-04\n",
      " ooCMF Iter:   15 Total= -2119.158182924525 Active= -105.898345651889 G=     4.74e-04\n",
      " ooCMF Iter:   16 Total= -2119.158182997061 Active= -105.898345724426 G=     2.42e-04\n",
      " ooCMF Iter:   17 Total= -2119.158183022702 Active= -105.898345750067 G=     2.02e-04\n",
      " ooCMF Iter:   18 Total= -2119.158183048750 Active= -105.898345776115 G=     2.27e-04\n",
      " ooCMF Iter:   19 Total= -2119.158183075382 Active= -105.898345802747 G=     2.07e-04\n",
      " ooCMF Iter:   20 Total= -2119.158183086683 Active= -105.898345814047 G=     1.16e-04\n",
      " ooCMF Iter:   21 Total= -2119.158183090470 Active= -105.898345817835 G=     5.63e-05\n",
      " ooCMF Iter:   22 Total= -2119.158183092048 Active= -105.898345819412 G=     5.65e-05\n",
      " ooCMF Iter:   23 Total= -2119.158183094222 Active= -105.898345821587 G=     5.80e-05\n",
      " ooCMF Iter:   24 Total= -2119.158183095608 Active= -105.898345822973 G=     2.69e-05\n",
      " ooCMF Iter:   25 Total= -2119.158183095859 Active= -105.898345823224 G=     1.25e-05\n",
      " ooCMF Iter:   26 Total= -2119.158183095938 Active= -105.898345823303 G=     1.19e-05\n",
      " ooCMF Iter:   27 Total= -2119.158183096034 Active= -105.898345823399 G=     1.27e-05\n",
      " ooCMF Iter:   28 Total= -2119.158183096095 Active= -105.898345823460 G=     7.82e-06\n"
     ]
    },
    {
     "data": {
      "text/plain": [
       " * Status: success\n",
       "\n",
       " * Candidate solution\n",
       "    Final objective value:     -2.119158e+03\n",
       "\n",
       " * Found with\n",
       "    Algorithm:     BFGS\n",
       "\n",
       " * Convergence measures\n",
       "    |x - x'|               = 2.50e-06 ≰ 0.0e+00\n",
       "    |x - x'|/|x'|          = 3.54e-05 ≰ 0.0e+00\n",
       "    |f(x) - f(x')|         = 2.68e-11 ≰ 0.0e+00\n",
       "    |f(x) - f(x')|/|f(x')| = 1.27e-14 ≰ 0.0e+00\n",
       "    |g(x)|                 = 8.97e-07 ≤ 1.0e-06\n",
       "\n",
       " * Work counters\n",
       "    Seconds run:   128  (vs limit Inf)\n",
       "    Iterations:    28\n",
       "    f(x) calls:    65\n",
       "    ∇f(x) calls:   65\n"
      ]
     },
     "metadata": {},
     "output_type": "display_data"
    },
    {
     "name": "stdout",
     "output_type": "stream",
     "text": [
      " ooCMF Iter:   29 Total= -2119.158183096122 Active= -105.898345823487 G=     4.45e-06\n",
      "*ooCMF -2119.15818310 \n"
     ]
    }
   ],
   "source": [
    "rdm1 = zeros(size(ints.h1))\n",
    "\n",
    "e_cmf, U, Da, Db = FermiCG.cmf_oo(ints, clusters, init_fspace, rdm1, rdm1, verbose=0, gconv=1e-6, method=\"bfgs\", sequential=true);\n",
    "\n",
    "ints = FermiCG.orbital_rotation(ints_original,U);\n",
    "\n",
    "@save \"cmf_data_2.jld2\" ints clusters init_fspace Da Db"
   ]
  },
  {
   "cell_type": "code",
   "execution_count": 6,
   "id": "87ed4cfd-15f7-438e-8b48-6f01abd00016",
   "metadata": {},
   "outputs": [],
   "source": []
  },
  {
   "cell_type": "code",
   "execution_count": null,
   "id": "adf32243-4039-423a-8b1c-cbc6c7696a41",
   "metadata": {},
   "outputs": [],
   "source": []
  }
 ],
 "metadata": {
  "kernelspec": {
   "display_name": "Julia 1.7.2",
   "language": "julia",
   "name": "julia-1.7"
  },
  "language_info": {
   "file_extension": ".jl",
   "mimetype": "application/julia",
   "name": "julia",
   "version": "1.7.2"
  }
 },
 "nbformat": 4,
 "nbformat_minor": 5
}
